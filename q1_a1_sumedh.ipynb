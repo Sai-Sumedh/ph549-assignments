{
 "cells": [
  {
   "cell_type": "markdown",
   "id": "84f6f26e-4b7e-48e2-86bd-97490b4c0256",
   "metadata": {},
   "source": [
    "# Assignment1: PH549- Physics of Biological systems\n",
    "H R Sai Sumedh, 180070024, EE DD CSP 4th year"
   ]
  },
  {
   "cell_type": "code",
   "execution_count": 1,
   "id": "b06b7321-64d8-409c-a79f-02d7ee54b691",
   "metadata": {},
   "outputs": [],
   "source": [
    "import numpy as np, matplotlib.pyplot as plt, math, time"
   ]
  },
  {
   "cell_type": "markdown",
   "id": "a07482fa-8b7b-4b05-9fae-aa81c15f4bc3",
   "metadata": {},
   "source": [
    "Define constants"
   ]
  },
  {
   "cell_type": "code",
   "execution_count": 2,
   "id": "9ac135ae-d3f6-42e7-9c53-84afb703362c",
   "metadata": {},
   "outputs": [],
   "source": [
    "um = 1# micro metre as unit\n",
    "R = 10*um\n",
    "r = 1*um # radius of FRAP ROI\n",
    "D = 1*(um)**2 # 1 um^2/s\n",
    "# D = 2*(um)**2\n",
    "Np=5000\n",
    "# Np = 10000 # number of proteins present "
   ]
  },
  {
   "cell_type": "markdown",
   "id": "d22701b8-1e4f-4abb-aec4-711b9db8b6d0",
   "metadata": {},
   "source": [
    "Diffusion in 2-D"
   ]
  },
  {
   "cell_type": "code",
   "execution_count": 3,
   "id": "d10efef8-d2ea-4040-acb6-3eef5155ef0f",
   "metadata": {},
   "outputs": [],
   "source": [
    "dt = 1e-3\n",
    "# dt = 0.5e-3\n",
    "T=3000\n",
    "# T = 6000\n",
    "t = np.linspace(0, T*dt, T)\n",
    "N = 200 #100 points in (-R, R)\n",
    "N_sim = 250 # total simulation area\n",
    "dx = 2*R/N_sim #resolution along x\n",
    "dy = dx # resolution along y\n",
    "C = np.zeros((N_sim, N_sim, T)) # concentration matrix for all time"
   ]
  },
  {
   "cell_type": "code",
   "execution_count": 4,
   "id": "dd082e3b-458f-491e-9591-4c53a05584f0",
   "metadata": {},
   "outputs": [],
   "source": [
    "# define laplacian matrix (for d/dx2) Lap_x*column vector f with values along x gives d2f/dx2\n",
    "Lap_x = (-2*np.diag(np.ones((N_sim, )), 0) + np.diag(np.ones((N_sim-1, )), 1) + np.diag(np.ones((N_sim-1, )), -1) )/(dx**2)\n",
    "\n",
    "Lap_x[0,0] = 0\n",
    "Lap_x[0,1] = 0\n",
    "Lap_x[1,0] = 0\n",
    "Lap_x[-1,-1] = 0\n",
    "Lap_x[-1,-2] = 0\n",
    "Lap_x[-2,-1] = 0"
   ]
  },
  {
   "cell_type": "code",
   "execution_count": 5,
   "id": "64913f10-1456-4ef5-8b3d-229f2f6917c6",
   "metadata": {},
   "outputs": [],
   "source": [
    "def circle(N_total, N_diam):\n",
    "    '''\n",
    "    N_total: total points \n",
    "    N_diam : number of points in desired diameter (of circle at centre) \n",
    "    returns a 2D array with 1s inside a circle with diameter N_diam and 0s outside\n",
    "    '''\n",
    "    cell_mask = np.zeros((N_total,N_total))\n",
    "    for i in range(N_diam):\n",
    "        nonzero_indices = np.arange(math.ceil(N_total/2 - np.sqrt(i*(N_diam-i))),math.floor(N_total/2+ np.sqrt(i*(N_diam-i))),1)\n",
    "        try:\n",
    "            cell_mask[math.ceil((N_total-N_diam)/2)+i, nonzero_indices] = 1\n",
    "        except IndexError:\n",
    "            print(f\"Error in :\\n{i}, {nonzero_indices}\")\n",
    "    return cell_mask"
   ]
  },
  {
   "cell_type": "code",
   "execution_count": 6,
   "id": "22eafbf4-e6e1-4b3c-ba49-486931266199",
   "metadata": {},
   "outputs": [],
   "source": [
    "cell_mask = circle(N_sim, N)\n",
    "roi_mask = circle(N_sim, math.floor(N*r/R))"
   ]
  },
  {
   "cell_type": "code",
   "execution_count": 7,
   "id": "b66f29f3-f0bf-4076-b700-2e1c1621831b",
   "metadata": {},
   "outputs": [
    {
     "data": {
      "text/plain": [
       "<matplotlib.image.AxesImage at 0x1f0df1fefa0>"
      ]
     },
     "execution_count": 7,
     "metadata": {},
     "output_type": "execute_result"
    },
    {
     "data": {
      "image/png": "[encoded data removed]",
      "text/plain": [
       "<Figure size 432x288 with 2 Axes>"
      ]
     },
     "metadata": {
      "needs_background": "light"
     },
     "output_type": "display_data"
    }
   ],
   "source": [
    "fig, ax = plt.subplots(1,2)\n",
    "ax[0].imshow(cell_mask)\n",
    "ax[1].imshow(roi_mask)"
   ]
  },
  {
   "cell_type": "markdown",
   "id": "8ef6b479-4fe6-40f6-ba50-012b910bba38",
   "metadata": {},
   "source": [
    "Initial conditions: C0"
   ]
  },
  {
   "cell_type": "code",
   "execution_count": 8,
   "id": "0f362e67-8b7b-4df6-ae4c-43daa7cf947f",
   "metadata": {},
   "outputs": [
    {
     "data": {
      "text/plain": [
       "Text(0.5, 1.0, 'Initial Concentration')"
      ]
     },
     "execution_count": 8,
     "metadata": {},
     "output_type": "execute_result"
    },
    {
     "data": {
      "image/png": "[encoded data removed]",
      "text/plain": [
       "<Figure size 432x288 with 2 Axes>"
      ]
     },
     "metadata": {
      "needs_background": "light"
     },
     "output_type": "display_data"
    }
   ],
   "source": [
    "c_init = (Np/(np.pi*(R**2-r**2)))\n",
    "C0 = c_init*(cell_mask- roi_mask)\n",
    "plt.imshow(C0)\n",
    "plt.colorbar()\n",
    "plt.title('Initial Concentration')\n"
   ]
  },
  {
   "cell_type": "code",
   "execution_count": 9,
   "id": "7b5ccf3c-9c7d-41a6-85b2-697fe15bd50c",
   "metadata": {},
   "outputs": [],
   "source": [
    "C[:,:,0]= C0"
   ]
  },
  {
   "cell_type": "code",
   "execution_count": 10,
   "id": "9b2652c6-24f2-4ffe-a2d4-c49882b2643c",
   "metadata": {},
   "outputs": [],
   "source": [
    "N_roi = np.zeros((T,)) # number of proteins in ROI"
   ]
  },
  {
   "cell_type": "code",
   "execution_count": 11,
   "id": "e623e83e-6efd-4e9f-b392-e7a372194d7a",
   "metadata": {},
   "outputs": [
    {
     "name": "stdout",
     "output_type": "stream",
     "text": [
      "time taken: 47.37151527404785s\n"
     ]
    }
   ],
   "source": [
    "tic = time.time()\n",
    "for tk in range(T-1):\n",
    "    C[:,:,tk+1] = C[:,:,tk] + dt*D*circle(N_sim, N-2)*( np.dot(Lap_x, C[:,:,tk].T).T + np.dot(Lap_x, C[:,:,tk]))\n",
    "    C[:,:,tk+1] = C[:,:,tk+1]*np.sum(C[:,:,0])/np.sum(C[:,:,tk+1]) # normalize to ensure constant number of proteins\n",
    "    N_roi[tk+1] = np.pi*(r**2)*np.sum((C[:,:,tk+1]*roi_mask))/np.sum(roi_mask)\n",
    "print(f\"time taken: {time.time()-tic}s\")"
   ]
  },
  {
   "cell_type": "code",
   "execution_count": 12,
   "id": "47d18f27-ee9a-45d9-846b-45eebad02b94",
   "metadata": {},
   "outputs": [],
   "source": [
    "N_roi_ss = Np*(r/R)**2"
   ]
  },
  {
   "cell_type": "code",
   "execution_count": 13,
   "id": "636d7c99-599d-4e1f-8f8f-372ab012dfe8",
   "metadata": {},
   "outputs": [],
   "source": [
    "t_half_index = np.min(np.argwhere(N_roi>=N_roi_ss/2))\n",
    "t_half = t[t_half_index]"
   ]
  },
  {
   "cell_type": "code",
   "execution_count": 14,
   "id": "3cf798d4-e304-48dc-a80c-a64b78e580c5",
   "metadata": {},
   "outputs": [
    {
     "data": {
      "image/png": "[encoded data removed]",
      "text/plain": [
       "<Figure size 432x288 with 1 Axes>"
      ]
     },
     "metadata": {
      "needs_background": "light"
     },
     "output_type": "display_data"
    }
   ],
   "source": [
    "plt.plot(t, N_roi, 'r')\n",
    "plt.plot([0, t_half], [N_roi_ss/2, N_roi_ss/2], 'b--')\n",
    "plt.plot([t_half, t_half], [0, N_roi_ss/2], 'b--')\n",
    "plt.legend(['N_roi', 't_1/2'])\n",
    "plt.xticks([0.5*i for i in range(0,7)])\n",
    "plt.xlabel('time (s)')\n",
    "plt.ylabel('# proteins in ROI')\n",
    "plt.title(\"Proteins in ROI vs t\")\n",
    "plt.annotate(str(round(t_half,3)), (t_half, 0))\n",
    "plt.show()"
   ]
  },
  {
   "cell_type": "code",
   "execution_count": 23,
   "id": "26d28db7-32dc-4b7f-9a6c-341804de7bb1",
   "metadata": {},
   "outputs": [
    {
     "data": {
      "image/png": "[encoded data removed]",
      "text/plain": [
       "<Figure size 432x288 with 6 Axes>"
      ]
     },
     "metadata": {
      "needs_background": "light"
     },
     "output_type": "display_data"
    }
   ],
   "source": [
    "fig, ax = plt.subplots(2, 3, )\n",
    "ax[0,0].imshow(C[:,:,0])\n",
    "ax[0,0].set_title('t=0s')\n",
    "ax[0,1].imshow(C[:,:,500])\n",
    "ax[0,1].set_title('t=0.5s')\n",
    "ax[0,2].imshow(C[:,:,1000])\n",
    "ax[0,2].set_title('t=1s')\n",
    "ax[1,0].imshow(C[:,:,1500])\n",
    "ax[1,0].set_title('t=1.5s')\n",
    "ax[1,1].imshow(C[:,:,2000])\n",
    "ax[1,1].set_title('t=2s')\n",
    "ax[1,2].imshow(C[:,:,2500])\n",
    "ax[1,2].set_title('t=2.5s')\n",
    "fig.suptitle(\"C(t)\")\n",
    "fig.tight_layout()"
   ]
  },
  {
   "cell_type": "code",
   "execution_count": null,
   "id": "32f02ee3-66ea-4806-8419-1e2b1987372a",
   "metadata": {},
   "outputs": [],
   "source": []
  }
 ],
 "metadata": {
  "kernelspec": {
   "display_name": "Python 3",
   "language": "python",
   "name": "python3"
  },
  "language_info": {
   "codemirror_mode": {
    "name": "ipython",
    "version": 3
   },
   "file_extension": ".py",
   "mimetype": "text/x-python",
   "name": "python",
   "nbconvert_exporter": "python",
   "pygments_lexer": "ipython3",
   "version": "3.9.5"
  }
 },
 "nbformat": 4,
 "nbformat_minor": 5
}
